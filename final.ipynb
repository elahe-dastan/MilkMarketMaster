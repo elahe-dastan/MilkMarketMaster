{
 "cells": [
  {
   "cell_type": "code",
   "execution_count": 1,
   "id": "initial_id",
   "metadata": {
    "collapsed": true,
    "ExecuteTime": {
     "end_time": "2024-02-25T20:03:32.400997Z",
     "start_time": "2024-02-25T20:03:31.216804Z"
    }
   },
   "outputs": [],
   "source": [
    "import pandas as pd\n",
    "import matplotlib.pyplot as plt"
   ]
  },
  {
   "cell_type": "code",
   "outputs": [
    {
     "data": {
      "text/plain": "           id  data_series_id  product_id  data_source_id        date  \\\n0       85115             652           4              30  2001-04-23   \n1       85116             652           4              30  2001-04-30   \n2       85117             652           4              30  2001-05-07   \n3       85118             652           4              30  2001-05-14   \n4       85119             652           4              30  2001-05-21   \n...       ...             ...         ...             ...         ...   \n8233  1652235             652           4              30  2023-12-20   \n8234  1652369             886           4               1  2023-12-17   \n8235  1652383             912           4              71  2023-12-20   \n8236  1663349             961           4             133  2023-12-21   \n8237  1668383             912           4              71  2023-12-21   \n\n     data_interval raw_currency raw_unit  raw_price currency  ...  \\\n0           weekly          EUR       mt   2291.590      EUR  ...   \n1           weekly          EUR       mt   2323.350      EUR  ...   \n2           weekly          EUR       mt   2359.660      EUR  ...   \n3           weekly          EUR       mt   2427.720      EUR  ...   \n4           weekly          EUR       mt   2482.180      EUR  ...   \n...            ...          ...      ...        ...      ...  ...   \n8233        weekly          EUR    100kg    254.000      EUR  ...   \n8234        weekly          EUR    100kg    261.000      EUR  ...   \n8235         daily          EUR       mt   2624.000      EUR  ...   \n8236        weekly          USD       lb      1.185      EUR  ...   \n8237         daily          EUR       mt   2590.000      EUR  ...   \n\n             created_at.1         updated_at.1 id.2 product_group_id  \\\n0     2021-06-21 16:01:39  2021-06-21 16:01:39    4                2   \n1     2021-06-21 16:01:39  2021-06-21 16:01:39    4                2   \n2     2021-06-21 16:01:39  2021-06-21 16:01:39    4                2   \n3     2021-06-21 16:01:39  2021-06-21 16:01:39    4                2   \n4     2021-06-21 16:01:39  2021-06-21 16:01:39    4                2   \n...                   ...                  ...  ...              ...   \n8233  2021-06-21 16:01:39  2021-06-21 16:01:39    4                2   \n8234  2021-06-21 16:01:39  2021-06-21 16:01:39    4                2   \n8235  2021-10-26 15:57:11  2021-10-26 15:57:11    4                2   \n8236  2023-05-16 12:37:44  2023-05-16 12:37:44    4                2   \n8237  2021-10-26 15:57:11  2021-10-26 15:57:11    4                2   \n\n          name.1                      slug         created_at.2  \\\n0     SMP (Food)  skimmed-milk-powder-food  2019-02-02 15:06:27   \n1     SMP (Food)  skimmed-milk-powder-food  2019-02-02 15:06:27   \n2     SMP (Food)  skimmed-milk-powder-food  2019-02-02 15:06:27   \n3     SMP (Food)  skimmed-milk-powder-food  2019-02-02 15:06:27   \n4     SMP (Food)  skimmed-milk-powder-food  2019-02-02 15:06:27   \n...          ...                       ...                  ...   \n8233  SMP (Food)  skimmed-milk-powder-food  2019-02-02 15:06:27   \n8234  SMP (Food)  skimmed-milk-powder-food  2019-02-02 15:06:27   \n8235  SMP (Food)  skimmed-milk-powder-food  2019-02-02 15:06:27   \n8236  SMP (Food)  skimmed-milk-powder-food  2019-02-02 15:06:27   \n8237  SMP (Food)  skimmed-milk-powder-food  2019-02-02 15:06:27   \n\n             updated_at.2 deleted_at   type  \n0     2021-02-15 07:54:23        NaN  solid  \n1     2021-02-15 07:54:23        NaN  solid  \n2     2021-02-15 07:54:23        NaN  solid  \n3     2021-02-15 07:54:23        NaN  solid  \n4     2021-02-15 07:54:23        NaN  solid  \n...                   ...        ...    ...  \n8233  2021-02-15 07:54:23        NaN  solid  \n8234  2021-02-15 07:54:23        NaN  solid  \n8235  2021-02-15 07:54:23        NaN  solid  \n8236  2021-02-15 07:54:23        NaN  solid  \n8237  2021-02-15 07:54:23        NaN  solid  \n\n[8238 rows x 28 columns]",
      "text/html": "<div>\n<style scoped>\n    .dataframe tbody tr th:only-of-type {\n        vertical-align: middle;\n    }\n\n    .dataframe tbody tr th {\n        vertical-align: top;\n    }\n\n    .dataframe thead th {\n        text-align: right;\n    }\n</style>\n<table border=\"1\" class=\"dataframe\">\n  <thead>\n    <tr style=\"text-align: right;\">\n      <th></th>\n      <th>id</th>\n      <th>data_series_id</th>\n      <th>product_id</th>\n      <th>data_source_id</th>\n      <th>date</th>\n      <th>data_interval</th>\n      <th>raw_currency</th>\n      <th>raw_unit</th>\n      <th>raw_price</th>\n      <th>currency</th>\n      <th>...</th>\n      <th>created_at.1</th>\n      <th>updated_at.1</th>\n      <th>id.2</th>\n      <th>product_group_id</th>\n      <th>name.1</th>\n      <th>slug</th>\n      <th>created_at.2</th>\n      <th>updated_at.2</th>\n      <th>deleted_at</th>\n      <th>type</th>\n    </tr>\n  </thead>\n  <tbody>\n    <tr>\n      <th>0</th>\n      <td>85115</td>\n      <td>652</td>\n      <td>4</td>\n      <td>30</td>\n      <td>2001-04-23</td>\n      <td>weekly</td>\n      <td>EUR</td>\n      <td>mt</td>\n      <td>2291.590</td>\n      <td>EUR</td>\n      <td>...</td>\n      <td>2021-06-21 16:01:39</td>\n      <td>2021-06-21 16:01:39</td>\n      <td>4</td>\n      <td>2</td>\n      <td>SMP (Food)</td>\n      <td>skimmed-milk-powder-food</td>\n      <td>2019-02-02 15:06:27</td>\n      <td>2021-02-15 07:54:23</td>\n      <td>NaN</td>\n      <td>solid</td>\n    </tr>\n    <tr>\n      <th>1</th>\n      <td>85116</td>\n      <td>652</td>\n      <td>4</td>\n      <td>30</td>\n      <td>2001-04-30</td>\n      <td>weekly</td>\n      <td>EUR</td>\n      <td>mt</td>\n      <td>2323.350</td>\n      <td>EUR</td>\n      <td>...</td>\n      <td>2021-06-21 16:01:39</td>\n      <td>2021-06-21 16:01:39</td>\n      <td>4</td>\n      <td>2</td>\n      <td>SMP (Food)</td>\n      <td>skimmed-milk-powder-food</td>\n      <td>2019-02-02 15:06:27</td>\n      <td>2021-02-15 07:54:23</td>\n      <td>NaN</td>\n      <td>solid</td>\n    </tr>\n    <tr>\n      <th>2</th>\n      <td>85117</td>\n      <td>652</td>\n      <td>4</td>\n      <td>30</td>\n      <td>2001-05-07</td>\n      <td>weekly</td>\n      <td>EUR</td>\n      <td>mt</td>\n      <td>2359.660</td>\n      <td>EUR</td>\n      <td>...</td>\n      <td>2021-06-21 16:01:39</td>\n      <td>2021-06-21 16:01:39</td>\n      <td>4</td>\n      <td>2</td>\n      <td>SMP (Food)</td>\n      <td>skimmed-milk-powder-food</td>\n      <td>2019-02-02 15:06:27</td>\n      <td>2021-02-15 07:54:23</td>\n      <td>NaN</td>\n      <td>solid</td>\n    </tr>\n    <tr>\n      <th>3</th>\n      <td>85118</td>\n      <td>652</td>\n      <td>4</td>\n      <td>30</td>\n      <td>2001-05-14</td>\n      <td>weekly</td>\n      <td>EUR</td>\n      <td>mt</td>\n      <td>2427.720</td>\n      <td>EUR</td>\n      <td>...</td>\n      <td>2021-06-21 16:01:39</td>\n      <td>2021-06-21 16:01:39</td>\n      <td>4</td>\n      <td>2</td>\n      <td>SMP (Food)</td>\n      <td>skimmed-milk-powder-food</td>\n      <td>2019-02-02 15:06:27</td>\n      <td>2021-02-15 07:54:23</td>\n      <td>NaN</td>\n      <td>solid</td>\n    </tr>\n    <tr>\n      <th>4</th>\n      <td>85119</td>\n      <td>652</td>\n      <td>4</td>\n      <td>30</td>\n      <td>2001-05-21</td>\n      <td>weekly</td>\n      <td>EUR</td>\n      <td>mt</td>\n      <td>2482.180</td>\n      <td>EUR</td>\n      <td>...</td>\n      <td>2021-06-21 16:01:39</td>\n      <td>2021-06-21 16:01:39</td>\n      <td>4</td>\n      <td>2</td>\n      <td>SMP (Food)</td>\n      <td>skimmed-milk-powder-food</td>\n      <td>2019-02-02 15:06:27</td>\n      <td>2021-02-15 07:54:23</td>\n      <td>NaN</td>\n      <td>solid</td>\n    </tr>\n    <tr>\n      <th>...</th>\n      <td>...</td>\n      <td>...</td>\n      <td>...</td>\n      <td>...</td>\n      <td>...</td>\n      <td>...</td>\n      <td>...</td>\n      <td>...</td>\n      <td>...</td>\n      <td>...</td>\n      <td>...</td>\n      <td>...</td>\n      <td>...</td>\n      <td>...</td>\n      <td>...</td>\n      <td>...</td>\n      <td>...</td>\n      <td>...</td>\n      <td>...</td>\n      <td>...</td>\n      <td>...</td>\n    </tr>\n    <tr>\n      <th>8233</th>\n      <td>1652235</td>\n      <td>652</td>\n      <td>4</td>\n      <td>30</td>\n      <td>2023-12-20</td>\n      <td>weekly</td>\n      <td>EUR</td>\n      <td>100kg</td>\n      <td>254.000</td>\n      <td>EUR</td>\n      <td>...</td>\n      <td>2021-06-21 16:01:39</td>\n      <td>2021-06-21 16:01:39</td>\n      <td>4</td>\n      <td>2</td>\n      <td>SMP (Food)</td>\n      <td>skimmed-milk-powder-food</td>\n      <td>2019-02-02 15:06:27</td>\n      <td>2021-02-15 07:54:23</td>\n      <td>NaN</td>\n      <td>solid</td>\n    </tr>\n    <tr>\n      <th>8234</th>\n      <td>1652369</td>\n      <td>886</td>\n      <td>4</td>\n      <td>1</td>\n      <td>2023-12-17</td>\n      <td>weekly</td>\n      <td>EUR</td>\n      <td>100kg</td>\n      <td>261.000</td>\n      <td>EUR</td>\n      <td>...</td>\n      <td>2021-06-21 16:01:39</td>\n      <td>2021-06-21 16:01:39</td>\n      <td>4</td>\n      <td>2</td>\n      <td>SMP (Food)</td>\n      <td>skimmed-milk-powder-food</td>\n      <td>2019-02-02 15:06:27</td>\n      <td>2021-02-15 07:54:23</td>\n      <td>NaN</td>\n      <td>solid</td>\n    </tr>\n    <tr>\n      <th>8235</th>\n      <td>1652383</td>\n      <td>912</td>\n      <td>4</td>\n      <td>71</td>\n      <td>2023-12-20</td>\n      <td>daily</td>\n      <td>EUR</td>\n      <td>mt</td>\n      <td>2624.000</td>\n      <td>EUR</td>\n      <td>...</td>\n      <td>2021-10-26 15:57:11</td>\n      <td>2021-10-26 15:57:11</td>\n      <td>4</td>\n      <td>2</td>\n      <td>SMP (Food)</td>\n      <td>skimmed-milk-powder-food</td>\n      <td>2019-02-02 15:06:27</td>\n      <td>2021-02-15 07:54:23</td>\n      <td>NaN</td>\n      <td>solid</td>\n    </tr>\n    <tr>\n      <th>8236</th>\n      <td>1663349</td>\n      <td>961</td>\n      <td>4</td>\n      <td>133</td>\n      <td>2023-12-21</td>\n      <td>weekly</td>\n      <td>USD</td>\n      <td>lb</td>\n      <td>1.185</td>\n      <td>EUR</td>\n      <td>...</td>\n      <td>2023-05-16 12:37:44</td>\n      <td>2023-05-16 12:37:44</td>\n      <td>4</td>\n      <td>2</td>\n      <td>SMP (Food)</td>\n      <td>skimmed-milk-powder-food</td>\n      <td>2019-02-02 15:06:27</td>\n      <td>2021-02-15 07:54:23</td>\n      <td>NaN</td>\n      <td>solid</td>\n    </tr>\n    <tr>\n      <th>8237</th>\n      <td>1668383</td>\n      <td>912</td>\n      <td>4</td>\n      <td>71</td>\n      <td>2023-12-21</td>\n      <td>daily</td>\n      <td>EUR</td>\n      <td>mt</td>\n      <td>2590.000</td>\n      <td>EUR</td>\n      <td>...</td>\n      <td>2021-10-26 15:57:11</td>\n      <td>2021-10-26 15:57:11</td>\n      <td>4</td>\n      <td>2</td>\n      <td>SMP (Food)</td>\n      <td>skimmed-milk-powder-food</td>\n      <td>2019-02-02 15:06:27</td>\n      <td>2021-02-15 07:54:23</td>\n      <td>NaN</td>\n      <td>solid</td>\n    </tr>\n  </tbody>\n</table>\n<p>8238 rows × 28 columns</p>\n</div>"
     },
     "execution_count": 2,
     "metadata": {},
     "output_type": "execute_result"
    }
   ],
   "source": [
    "smp_quotations = pd.read_csv('./data/smp_quotations.csv')\n",
    "\n",
    "# # Convert values from 'lb' to 'mt' where the unit is 'lb'\n",
    "# smp_quotations.loc[smp_quotations['raw_unit'] == 'lb', 'raw_price'] = smp_quotations.loc[smp_quotations['raw_unit'] == 'lb', 'raw_price'] * 2204.62  # Conversion factor: 1 lb = 0.000453592 mt\n",
    "# \n",
    "# # Convert values from 'kg' to 'mt' where the unit is 'kg'\n",
    "# smp_quotations.loc[smp_quotations['raw_unit'] == '100kg', 'raw_price'] = smp_quotations.loc[smp_quotations['raw_unit'] == '100kg', 'raw_price'] * 10  # Conversion factor: 1 kg = 0.001 mt\n",
    "# \n",
    "# smp_quotations = smp_quotations[['data_series_id', 'product_id', 'data_source_id', 'date', 'raw_currency', 'raw_price', 'currency', 'price', 'country_id']]\n",
    "\n",
    "smp_quotations"
   ],
   "metadata": {
    "collapsed": false,
    "ExecuteTime": {
     "end_time": "2024-02-25T20:03:57.524473Z",
     "start_time": "2024-02-25T20:03:57.444915Z"
    }
   },
   "id": "e2d99d47b4e43d87",
   "execution_count": 2
  },
  {
   "cell_type": "code",
   "outputs": [],
   "source": [
    "a = pd.read_csv('./data/2/4/smp_quotations.csv')"
   ],
   "metadata": {
    "collapsed": false,
    "ExecuteTime": {
     "end_time": "2024-02-25T20:55:07.009422Z",
     "start_time": "2024-02-25T20:55:06.978874Z"
    }
   },
   "id": "c4c6d5e8490617dc",
   "execution_count": 55
  },
  {
   "cell_type": "code",
   "outputs": [
    {
     "data": {
      "text/plain": "      Unnamed: 0       id  data_series_id  product_id  data_source_id  \\\n0           6168   428512             961           4             133   \n1           6169   431756             961           4             133   \n2           6170   431757             961           4             133   \n3           6171   431758             961           4             133   \n4           6172   431759             961           4             133   \n...          ...      ...             ...         ...             ...   \n1797        8194   572903             961           4             133   \n1798        8207   634080             961           4             133   \n1799        8217   897568             961           4             133   \n1800        8226  1651445             961           4             133   \n1801        8236  1663349             961           4             133   \n\n            date data_interval raw_currency raw_unit  raw_price  ...  \\\n0     2020-10-01        weekly          USD       lb     1.1100  ...   \n1     2000-01-06        weekly          USD       lb     1.0050  ...   \n2     2000-01-13        weekly          USD       lb     1.0050  ...   \n3     2000-01-20        weekly          USD       lb     1.0050  ...   \n4     2000-01-27        weekly          USD       lb     1.0050  ...   \n...          ...           ...          ...      ...        ...  ...   \n1797  2023-11-21        weekly          USD       lb     1.2075  ...   \n1798  2023-11-30        weekly          USD       lb     1.2000  ...   \n1799  2023-12-07        weekly          USD       lb     1.2000  ...   \n1800  2023-12-14        weekly          USD       lb     1.1900  ...   \n1801  2023-12-21        weekly          USD       lb     1.1850  ...   \n\n             created_at.1         updated_at.1  id.2 product_group_id  \\\n0     2023-05-16 12:37:44  2023-05-16 12:37:44     4                2   \n1     2023-05-16 12:37:44  2023-05-16 12:37:44     4                2   \n2     2023-05-16 12:37:44  2023-05-16 12:37:44     4                2   \n3     2023-05-16 12:37:44  2023-05-16 12:37:44     4                2   \n4     2023-05-16 12:37:44  2023-05-16 12:37:44     4                2   \n...                   ...                  ...   ...              ...   \n1797  2023-05-16 12:37:44  2023-05-16 12:37:44     4                2   \n1798  2023-05-16 12:37:44  2023-05-16 12:37:44     4                2   \n1799  2023-05-16 12:37:44  2023-05-16 12:37:44     4                2   \n1800  2023-05-16 12:37:44  2023-05-16 12:37:44     4                2   \n1801  2023-05-16 12:37:44  2023-05-16 12:37:44     4                2   \n\n          name.1                      slug         created_at.2  \\\n0     SMP (Food)  skimmed-milk-powder-food  2019-02-02 15:06:27   \n1     SMP (Food)  skimmed-milk-powder-food  2019-02-02 15:06:27   \n2     SMP (Food)  skimmed-milk-powder-food  2019-02-02 15:06:27   \n3     SMP (Food)  skimmed-milk-powder-food  2019-02-02 15:06:27   \n4     SMP (Food)  skimmed-milk-powder-food  2019-02-02 15:06:27   \n...          ...                       ...                  ...   \n1797  SMP (Food)  skimmed-milk-powder-food  2019-02-02 15:06:27   \n1798  SMP (Food)  skimmed-milk-powder-food  2019-02-02 15:06:27   \n1799  SMP (Food)  skimmed-milk-powder-food  2019-02-02 15:06:27   \n1800  SMP (Food)  skimmed-milk-powder-food  2019-02-02 15:06:27   \n1801  SMP (Food)  skimmed-milk-powder-food  2019-02-02 15:06:27   \n\n             updated_at.2  deleted_at   type  \n0     2021-02-15 07:54:23         NaN  solid  \n1     2021-02-15 07:54:23         NaN  solid  \n2     2021-02-15 07:54:23         NaN  solid  \n3     2021-02-15 07:54:23         NaN  solid  \n4     2021-02-15 07:54:23         NaN  solid  \n...                   ...         ...    ...  \n1797  2021-02-15 07:54:23         NaN  solid  \n1798  2021-02-15 07:54:23         NaN  solid  \n1799  2021-02-15 07:54:23         NaN  solid  \n1800  2021-02-15 07:54:23         NaN  solid  \n1801  2021-02-15 07:54:23         NaN  solid  \n\n[1802 rows x 29 columns]",
      "text/html": "<div>\n<style scoped>\n    .dataframe tbody tr th:only-of-type {\n        vertical-align: middle;\n    }\n\n    .dataframe tbody tr th {\n        vertical-align: top;\n    }\n\n    .dataframe thead th {\n        text-align: right;\n    }\n</style>\n<table border=\"1\" class=\"dataframe\">\n  <thead>\n    <tr style=\"text-align: right;\">\n      <th></th>\n      <th>Unnamed: 0</th>\n      <th>id</th>\n      <th>data_series_id</th>\n      <th>product_id</th>\n      <th>data_source_id</th>\n      <th>date</th>\n      <th>data_interval</th>\n      <th>raw_currency</th>\n      <th>raw_unit</th>\n      <th>raw_price</th>\n      <th>...</th>\n      <th>created_at.1</th>\n      <th>updated_at.1</th>\n      <th>id.2</th>\n      <th>product_group_id</th>\n      <th>name.1</th>\n      <th>slug</th>\n      <th>created_at.2</th>\n      <th>updated_at.2</th>\n      <th>deleted_at</th>\n      <th>type</th>\n    </tr>\n  </thead>\n  <tbody>\n    <tr>\n      <th>0</th>\n      <td>6168</td>\n      <td>428512</td>\n      <td>961</td>\n      <td>4</td>\n      <td>133</td>\n      <td>2020-10-01</td>\n      <td>weekly</td>\n      <td>USD</td>\n      <td>lb</td>\n      <td>1.1100</td>\n      <td>...</td>\n      <td>2023-05-16 12:37:44</td>\n      <td>2023-05-16 12:37:44</td>\n      <td>4</td>\n      <td>2</td>\n      <td>SMP (Food)</td>\n      <td>skimmed-milk-powder-food</td>\n      <td>2019-02-02 15:06:27</td>\n      <td>2021-02-15 07:54:23</td>\n      <td>NaN</td>\n      <td>solid</td>\n    </tr>\n    <tr>\n      <th>1</th>\n      <td>6169</td>\n      <td>431756</td>\n      <td>961</td>\n      <td>4</td>\n      <td>133</td>\n      <td>2000-01-06</td>\n      <td>weekly</td>\n      <td>USD</td>\n      <td>lb</td>\n      <td>1.0050</td>\n      <td>...</td>\n      <td>2023-05-16 12:37:44</td>\n      <td>2023-05-16 12:37:44</td>\n      <td>4</td>\n      <td>2</td>\n      <td>SMP (Food)</td>\n      <td>skimmed-milk-powder-food</td>\n      <td>2019-02-02 15:06:27</td>\n      <td>2021-02-15 07:54:23</td>\n      <td>NaN</td>\n      <td>solid</td>\n    </tr>\n    <tr>\n      <th>2</th>\n      <td>6170</td>\n      <td>431757</td>\n      <td>961</td>\n      <td>4</td>\n      <td>133</td>\n      <td>2000-01-13</td>\n      <td>weekly</td>\n      <td>USD</td>\n      <td>lb</td>\n      <td>1.0050</td>\n      <td>...</td>\n      <td>2023-05-16 12:37:44</td>\n      <td>2023-05-16 12:37:44</td>\n      <td>4</td>\n      <td>2</td>\n      <td>SMP (Food)</td>\n      <td>skimmed-milk-powder-food</td>\n      <td>2019-02-02 15:06:27</td>\n      <td>2021-02-15 07:54:23</td>\n      <td>NaN</td>\n      <td>solid</td>\n    </tr>\n    <tr>\n      <th>3</th>\n      <td>6171</td>\n      <td>431758</td>\n      <td>961</td>\n      <td>4</td>\n      <td>133</td>\n      <td>2000-01-20</td>\n      <td>weekly</td>\n      <td>USD</td>\n      <td>lb</td>\n      <td>1.0050</td>\n      <td>...</td>\n      <td>2023-05-16 12:37:44</td>\n      <td>2023-05-16 12:37:44</td>\n      <td>4</td>\n      <td>2</td>\n      <td>SMP (Food)</td>\n      <td>skimmed-milk-powder-food</td>\n      <td>2019-02-02 15:06:27</td>\n      <td>2021-02-15 07:54:23</td>\n      <td>NaN</td>\n      <td>solid</td>\n    </tr>\n    <tr>\n      <th>4</th>\n      <td>6172</td>\n      <td>431759</td>\n      <td>961</td>\n      <td>4</td>\n      <td>133</td>\n      <td>2000-01-27</td>\n      <td>weekly</td>\n      <td>USD</td>\n      <td>lb</td>\n      <td>1.0050</td>\n      <td>...</td>\n      <td>2023-05-16 12:37:44</td>\n      <td>2023-05-16 12:37:44</td>\n      <td>4</td>\n      <td>2</td>\n      <td>SMP (Food)</td>\n      <td>skimmed-milk-powder-food</td>\n      <td>2019-02-02 15:06:27</td>\n      <td>2021-02-15 07:54:23</td>\n      <td>NaN</td>\n      <td>solid</td>\n    </tr>\n    <tr>\n      <th>...</th>\n      <td>...</td>\n      <td>...</td>\n      <td>...</td>\n      <td>...</td>\n      <td>...</td>\n      <td>...</td>\n      <td>...</td>\n      <td>...</td>\n      <td>...</td>\n      <td>...</td>\n      <td>...</td>\n      <td>...</td>\n      <td>...</td>\n      <td>...</td>\n      <td>...</td>\n      <td>...</td>\n      <td>...</td>\n      <td>...</td>\n      <td>...</td>\n      <td>...</td>\n      <td>...</td>\n    </tr>\n    <tr>\n      <th>1797</th>\n      <td>8194</td>\n      <td>572903</td>\n      <td>961</td>\n      <td>4</td>\n      <td>133</td>\n      <td>2023-11-21</td>\n      <td>weekly</td>\n      <td>USD</td>\n      <td>lb</td>\n      <td>1.2075</td>\n      <td>...</td>\n      <td>2023-05-16 12:37:44</td>\n      <td>2023-05-16 12:37:44</td>\n      <td>4</td>\n      <td>2</td>\n      <td>SMP (Food)</td>\n      <td>skimmed-milk-powder-food</td>\n      <td>2019-02-02 15:06:27</td>\n      <td>2021-02-15 07:54:23</td>\n      <td>NaN</td>\n      <td>solid</td>\n    </tr>\n    <tr>\n      <th>1798</th>\n      <td>8207</td>\n      <td>634080</td>\n      <td>961</td>\n      <td>4</td>\n      <td>133</td>\n      <td>2023-11-30</td>\n      <td>weekly</td>\n      <td>USD</td>\n      <td>lb</td>\n      <td>1.2000</td>\n      <td>...</td>\n      <td>2023-05-16 12:37:44</td>\n      <td>2023-05-16 12:37:44</td>\n      <td>4</td>\n      <td>2</td>\n      <td>SMP (Food)</td>\n      <td>skimmed-milk-powder-food</td>\n      <td>2019-02-02 15:06:27</td>\n      <td>2021-02-15 07:54:23</td>\n      <td>NaN</td>\n      <td>solid</td>\n    </tr>\n    <tr>\n      <th>1799</th>\n      <td>8217</td>\n      <td>897568</td>\n      <td>961</td>\n      <td>4</td>\n      <td>133</td>\n      <td>2023-12-07</td>\n      <td>weekly</td>\n      <td>USD</td>\n      <td>lb</td>\n      <td>1.2000</td>\n      <td>...</td>\n      <td>2023-05-16 12:37:44</td>\n      <td>2023-05-16 12:37:44</td>\n      <td>4</td>\n      <td>2</td>\n      <td>SMP (Food)</td>\n      <td>skimmed-milk-powder-food</td>\n      <td>2019-02-02 15:06:27</td>\n      <td>2021-02-15 07:54:23</td>\n      <td>NaN</td>\n      <td>solid</td>\n    </tr>\n    <tr>\n      <th>1800</th>\n      <td>8226</td>\n      <td>1651445</td>\n      <td>961</td>\n      <td>4</td>\n      <td>133</td>\n      <td>2023-12-14</td>\n      <td>weekly</td>\n      <td>USD</td>\n      <td>lb</td>\n      <td>1.1900</td>\n      <td>...</td>\n      <td>2023-05-16 12:37:44</td>\n      <td>2023-05-16 12:37:44</td>\n      <td>4</td>\n      <td>2</td>\n      <td>SMP (Food)</td>\n      <td>skimmed-milk-powder-food</td>\n      <td>2019-02-02 15:06:27</td>\n      <td>2021-02-15 07:54:23</td>\n      <td>NaN</td>\n      <td>solid</td>\n    </tr>\n    <tr>\n      <th>1801</th>\n      <td>8236</td>\n      <td>1663349</td>\n      <td>961</td>\n      <td>4</td>\n      <td>133</td>\n      <td>2023-12-21</td>\n      <td>weekly</td>\n      <td>USD</td>\n      <td>lb</td>\n      <td>1.1850</td>\n      <td>...</td>\n      <td>2023-05-16 12:37:44</td>\n      <td>2023-05-16 12:37:44</td>\n      <td>4</td>\n      <td>2</td>\n      <td>SMP (Food)</td>\n      <td>skimmed-milk-powder-food</td>\n      <td>2019-02-02 15:06:27</td>\n      <td>2021-02-15 07:54:23</td>\n      <td>NaN</td>\n      <td>solid</td>\n    </tr>\n  </tbody>\n</table>\n<p>1802 rows × 29 columns</p>\n</div>"
     },
     "execution_count": 56,
     "metadata": {},
     "output_type": "execute_result"
    }
   ],
   "source": [
    "a"
   ],
   "metadata": {
    "collapsed": false,
    "ExecuteTime": {
     "end_time": "2024-02-25T20:55:07.442850Z",
     "start_time": "2024-02-25T20:55:07.401459Z"
    }
   },
   "id": "bf972e7b4611a4de",
   "execution_count": 56
  },
  {
   "cell_type": "code",
   "outputs": [
    {
     "data": {
      "text/plain": "array(['Dairy Market News'], dtype=object)"
     },
     "execution_count": 59,
     "metadata": {},
     "output_type": "execute_result"
    }
   ],
   "source": [
    "a.name.unique()"
   ],
   "metadata": {
    "collapsed": false,
    "ExecuteTime": {
     "end_time": "2024-02-25T21:00:04.990370Z",
     "start_time": "2024-02-25T21:00:04.895034Z"
    }
   },
   "id": "a396a73b447d01a2",
   "execution_count": 59
  },
  {
   "cell_type": "code",
   "outputs": [
    {
     "data": {
      "text/plain": "array(['EUR'], dtype=object)"
     },
     "execution_count": 33,
     "metadata": {},
     "output_type": "execute_result"
    }
   ],
   "source": [
    "a.currency.unique()"
   ],
   "metadata": {
    "collapsed": false,
    "ExecuteTime": {
     "end_time": "2024-02-25T20:42:31.775449Z",
     "start_time": "2024-02-25T20:42:31.718520Z"
    }
   },
   "id": "942c70751a49de2d",
   "execution_count": 33
  },
  {
   "cell_type": "code",
   "outputs": [
    {
     "data": {
      "text/plain": "array(['USD'], dtype=object)"
     },
     "execution_count": 34,
     "metadata": {},
     "output_type": "execute_result"
    }
   ],
   "source": [
    "a.raw_currency.unique()"
   ],
   "metadata": {
    "collapsed": false,
    "ExecuteTime": {
     "end_time": "2024-02-25T20:42:32.273532Z",
     "start_time": "2024-02-25T20:42:32.265772Z"
    }
   },
   "id": "f8d005848e4ed05",
   "execution_count": 34
  },
  {
   "cell_type": "code",
   "outputs": [
    {
     "data": {
      "text/plain": "array(['mt'], dtype=object)"
     },
     "execution_count": 47,
     "metadata": {},
     "output_type": "execute_result"
    }
   ],
   "source": [
    "a.unit.unique()"
   ],
   "metadata": {
    "collapsed": false,
    "ExecuteTime": {
     "end_time": "2024-02-25T20:45:59.139223Z",
     "start_time": "2024-02-25T20:45:59.132093Z"
    }
   },
   "id": "ec98a73ff0fa8e75",
   "execution_count": 47
  },
  {
   "cell_type": "code",
   "outputs": [
    {
     "data": {
      "text/plain": "array([133])"
     },
     "execution_count": 58,
     "metadata": {},
     "output_type": "execute_result"
    }
   ],
   "source": [
    "a.data_source_id.unique()"
   ],
   "metadata": {
    "collapsed": false,
    "ExecuteTime": {
     "end_time": "2024-02-25T20:57:19.170101Z",
     "start_time": "2024-02-25T20:57:19.153638Z"
    }
   },
   "id": "8065c2838c5dc997",
   "execution_count": 58
  },
  {
   "cell_type": "code",
   "outputs": [],
   "source": [],
   "metadata": {
    "collapsed": false
   },
   "id": "14b9c4eae510adc6"
  }
 ],
 "metadata": {
  "kernelspec": {
   "display_name": "Python 3",
   "language": "python",
   "name": "python3"
  },
  "language_info": {
   "codemirror_mode": {
    "name": "ipython",
    "version": 2
   },
   "file_extension": ".py",
   "mimetype": "text/x-python",
   "name": "python",
   "nbconvert_exporter": "python",
   "pygments_lexer": "ipython2",
   "version": "2.7.6"
  }
 },
 "nbformat": 4,
 "nbformat_minor": 5
}
